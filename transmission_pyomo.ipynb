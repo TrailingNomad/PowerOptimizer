{
 "cells": [
  {
   "cell_type": "code",
   "execution_count": 93,
   "metadata": {},
   "outputs": [],
   "source": [
    "from pyomo.environ import *"
   ]
  },
  {
   "cell_type": "code",
   "execution_count": 101,
   "metadata": {},
   "outputs": [],
   "source": [
    "def init_power(model,i):\n",
    "  return P[i-1]\n",
    "def init_demand(model,i):\n",
    "  return d[i-1]\n",
    "def init_loss(model,i,j):\n",
    "  return L[i-1][j-1]"
   ]
  },
  {
   "cell_type": "code",
   "execution_count": 102,
   "metadata": {},
   "outputs": [],
   "source": [
    "from pyomo.environ import *\n",
    "\n",
    "P = [280,300,440]\n",
    "d = [200, 360, 380]\n",
    "L = [[0, 0.5, 0.25],\n",
    "     [0.5, 0, 0.15],\n",
    "     [0.25, 0.15, 0]]\n",
    "n=3\n",
    "\n",
    "# create a model\n",
    "model = ConcreteModel()\n",
    "\n",
    "# declare parameters and sets\n",
    "model.n = n\n",
    "model.loc = Set(initialize=range(1,model.n+1))\n",
    "model.demand = Param(model.loc, initialize=init_demand)\n",
    "model.power = Param(model.loc, initialize=init_power)\n",
    "model.loss = Param(model.loc, model.loc, initialize=init_loss)\n",
    "model.x = Var(model.loc, model.loc, domain=Reals)"
   ]
  },
  {
   "cell_type": "code",
   "execution_count": 103,
   "metadata": {},
   "outputs": [],
   "source": [
    "# declare objective\n",
    "model.obj = Objective(expr=sum(abs(model.x[i, j]) * model.loss[i, j] for i in model.loc for j in model.loc))"
   ]
  },
  {
   "cell_type": "code",
   "execution_count": 104,
   "metadata": {},
   "outputs": [
    {
     "name": "stdout",
     "output_type": "stream",
     "text": [
      "4 Set Declarations\n",
      "    assignment_index : Size=1, Index=None, Ordered=Insertion\n",
      "        Key  : Dimen : Domain : Size : Members\n",
      "        None :     1 :    Any :    9 : {1, 2, 3, 4, 5, 6, 7, 8, 9}\n",
      "    loc : Size=1, Index=None, Ordered=Insertion\n",
      "        Key  : Dimen : Domain : Size : Members\n",
      "        None :     1 :    Any :    3 : {1, 2, 3}\n",
      "    loss_index : Size=1, Index=None, Ordered=True\n",
      "        Key  : Dimen : Domain  : Size : Members\n",
      "        None :     2 : loc*loc :    9 : {(1, 1), (1, 2), (1, 3), (2, 1), (2, 2), (2, 3), (3, 1), (3, 2), (3, 3)}\n",
      "    x_index : Size=1, Index=None, Ordered=True\n",
      "        Key  : Dimen : Domain  : Size : Members\n",
      "        None :     2 : loc*loc :    9 : {(1, 1), (1, 2), (1, 3), (2, 1), (2, 2), (2, 3), (3, 1), (3, 2), (3, 3)}\n",
      "\n",
      "3 Param Declarations\n",
      "    demand : Size=3, Index=loc, Domain=Any, Default=None, Mutable=False\n",
      "        Key : Value\n",
      "          1 :   200\n",
      "          2 :   360\n",
      "          3 :   380\n",
      "    loss : Size=9, Index=loss_index, Domain=Any, Default=None, Mutable=False\n",
      "        Key    : Value\n",
      "        (1, 1) :     0\n",
      "        (1, 2) :   0.5\n",
      "        (1, 3) :  0.25\n",
      "        (2, 1) :   0.5\n",
      "        (2, 2) :     0\n",
      "        (2, 3) :  0.15\n",
      "        (3, 1) :  0.25\n",
      "        (3, 2) :  0.15\n",
      "        (3, 3) :     0\n",
      "    power : Size=3, Index=loc, Domain=Any, Default=None, Mutable=False\n",
      "        Key : Value\n",
      "          1 :   280\n",
      "          2 :   300\n",
      "          3 :   440\n",
      "\n",
      "1 Var Declarations\n",
      "    x : Size=9, Index=x_index\n",
      "        Key    : Lower : Value : Upper : Fixed : Stale : Domain\n",
      "        (1, 1) :  None :  None :  None : False :  True :  Reals\n",
      "        (1, 2) :  None :  None :  None : False :  True :  Reals\n",
      "        (1, 3) :  None :  None :  None : False :  True :  Reals\n",
      "        (2, 1) :  None :  None :  None : False :  True :  Reals\n",
      "        (2, 2) :  None :  None :  None : False :  True :  Reals\n",
      "        (2, 3) :  None :  None :  None : False :  True :  Reals\n",
      "        (3, 1) :  None :  None :  None : False :  True :  Reals\n",
      "        (3, 2) :  None :  None :  None : False :  True :  Reals\n",
      "        (3, 3) :  None :  None :  None : False :  True :  Reals\n",
      "\n",
      "1 Objective Declarations\n",
      "    obj : Size=1, Index=None, Active=True\n",
      "        Key  : Active : Sense    : Expression\n",
      "        None :   True : minimize : abs(x[1,1])*0 + abs(x[1,2])*0.5 + abs(x[1,3])*0.25 + abs(x[2,1])*0.5 + abs(x[2,2])*0 + abs(x[2,3])*0.15 + abs(x[3,1])*0.25 + abs(x[3,2])*0.15 + abs(x[3,3])*0\n",
      "\n",
      "1 Constraint Declarations\n",
      "    assignment : Size=9, Index=assignment_index, Active=True\n",
      "        Key : Lower : Body            : Upper : Active\n",
      "          1 :   0.0 : x[1,1] + x[1,1] :   0.0 :   True\n",
      "          2 :   0.0 : x[1,2] + x[2,1] :   0.0 :   True\n",
      "          3 :   0.0 : x[1,3] + x[3,1] :   0.0 :   True\n",
      "          4 :   0.0 : x[2,1] + x[1,2] :   0.0 :   True\n",
      "          5 :   0.0 : x[2,2] + x[2,2] :   0.0 :   True\n",
      "          6 :   0.0 : x[2,3] + x[3,2] :   0.0 :   True\n",
      "          7 :   0.0 : x[3,1] + x[1,3] :   0.0 :   True\n",
      "          8 :   0.0 : x[3,2] + x[2,3] :   0.0 :   True\n",
      "          9 :   0.0 : x[3,3] + x[3,3] :   0.0 :   True\n",
      "\n",
      "10 Declarations: loc demand power loss_index loss x_index x obj assignment_index assignment\n"
     ]
    }
   ],
   "source": [
    "# Assignment Constraints\n",
    "model.assignment = ConstraintList()\n",
    "for i in model.loc:\n",
    "    for j in model.loc:\n",
    "        model.assignment.add(expr=(model.x[i, j] + model.x[j, i] )== 0)\n",
    "    trans = model.power[i] - model.demand[i] - sum(model.x[i, j] for j in model.loc)\n",
    "    model.assignment.add(expr = (trans) >=0)\n",
    "model.pprint()"
   ]
  },
  {
   "cell_type": "code",
   "execution_count": 105,
   "metadata": {},
   "outputs": [
    {
     "name": "stdout",
     "output_type": "stream",
     "text": [
      "\n",
      "Objective Function =  0.0\n",
      "\n",
      "Decision Variables\n"
     ]
    }
   ],
   "source": [
    "solver = SolverFactory('ipopt.exe')\n",
    "solver.solve(model)\n",
    "\n",
    "# display solution\n",
    "print('\\nObjective Function = ', model.obj())\n",
    "print('\\nDecision Variables')"
   ]
  },
  {
   "cell_type": "code",
   "execution_count": 106,
   "metadata": {},
   "outputs": [
    {
     "name": "stdout",
     "output_type": "stream",
     "text": [
      "x : Size=9, Index=x_index\n",
      "    Key    : Lower : Value : Upper : Fixed : Stale : Domain\n",
      "    (1, 1) :  None :   0.0 :  None : False : False :  Reals\n",
      "    (1, 2) :  None :   0.0 :  None : False : False :  Reals\n",
      "    (1, 3) :  None :   0.0 :  None : False : False :  Reals\n",
      "    (2, 1) :  None :   0.0 :  None : False : False :  Reals\n",
      "    (2, 2) :  None :   0.0 :  None : False : False :  Reals\n",
      "    (2, 3) :  None :   0.0 :  None : False : False :  Reals\n",
      "    (3, 1) :  None :   0.0 :  None : False : False :  Reals\n",
      "    (3, 2) :  None :   0.0 :  None : False : False :  Reals\n",
      "    (3, 3) :  None :   0.0 :  None : False : False :  Reals\n",
      "None\n"
     ]
    }
   ],
   "source": [
    "print( model.x.display())"
   ]
  }
 ],
 "metadata": {
  "kernelspec": {
   "display_name": "Python 3",
   "language": "python",
   "name": "python3"
  },
  "language_info": {
   "codemirror_mode": {
    "name": "ipython",
    "version": 3
   },
   "file_extension": ".py",
   "mimetype": "text/x-python",
   "name": "python",
   "nbconvert_exporter": "python",
   "pygments_lexer": "ipython3",
   "version": "3.11.0"
  }
 },
 "nbformat": 4,
 "nbformat_minor": 2
}
