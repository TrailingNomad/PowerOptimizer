{
 "cells": [
  {
   "cell_type": "code",
   "execution_count": 68,
   "metadata": {},
   "outputs": [],
   "source": [
    "import numpy as np\n",
    "import pandas as pd"
   ]
  },
  {
   "cell_type": "code",
   "execution_count": 69,
   "metadata": {},
   "outputs": [
    {
     "data": {
      "text/html": [
       "<div>\n",
       "<style scoped>\n",
       "    .dataframe tbody tr th:only-of-type {\n",
       "        vertical-align: middle;\n",
       "    }\n",
       "\n",
       "    .dataframe tbody tr th {\n",
       "        vertical-align: top;\n",
       "    }\n",
       "\n",
       "    .dataframe thead th {\n",
       "        text-align: right;\n",
       "    }\n",
       "</style>\n",
       "<table border=\"1\" class=\"dataframe\">\n",
       "  <thead>\n",
       "    <tr style=\"text-align: right;\">\n",
       "      <th></th>\n",
       "      <th>Area</th>\n",
       "      <th>Solar_cost</th>\n",
       "      <th>Wind_cost</th>\n",
       "      <th>Solar_Power</th>\n",
       "      <th>Wind_Power</th>\n",
       "      <th>lat</th>\n",
       "      <th>long</th>\n",
       "    </tr>\n",
       "  </thead>\n",
       "  <tbody>\n",
       "    <tr>\n",
       "      <th>0</th>\n",
       "      <td>401</td>\n",
       "      <td>1.141326e+10</td>\n",
       "      <td>1.331306e+10</td>\n",
       "      <td>790.088322</td>\n",
       "      <td>569.477760</td>\n",
       "      <td>8.235490</td>\n",
       "      <td>77.550294</td>\n",
       "    </tr>\n",
       "    <tr>\n",
       "      <th>1</th>\n",
       "      <td>686</td>\n",
       "      <td>1.954698e+10</td>\n",
       "      <td>2.186692e+10</td>\n",
       "      <td>852.281140</td>\n",
       "      <td>1172.791598</td>\n",
       "      <td>27.231708</td>\n",
       "      <td>70.303710</td>\n",
       "    </tr>\n",
       "    <tr>\n",
       "      <th>2</th>\n",
       "      <td>735</td>\n",
       "      <td>2.208054e+10</td>\n",
       "      <td>2.544518e+10</td>\n",
       "      <td>749.719273</td>\n",
       "      <td>735.282807</td>\n",
       "      <td>30.825460</td>\n",
       "      <td>78.967529</td>\n",
       "    </tr>\n",
       "    <tr>\n",
       "      <th>3</th>\n",
       "      <td>487</td>\n",
       "      <td>1.375784e+10</td>\n",
       "      <td>1.627365e+10</td>\n",
       "      <td>784.336841</td>\n",
       "      <td>761.489126</td>\n",
       "      <td>13.070384</td>\n",
       "      <td>80.200195</td>\n",
       "    </tr>\n",
       "    <tr>\n",
       "      <th>4</th>\n",
       "      <td>869</td>\n",
       "      <td>2.274979e+10</td>\n",
       "      <td>2.711702e+10</td>\n",
       "      <td>800.376047</td>\n",
       "      <td>848.454601</td>\n",
       "      <td>15.621395</td>\n",
       "      <td>73.876465</td>\n",
       "    </tr>\n",
       "    <tr>\n",
       "      <th>5</th>\n",
       "      <td>679</td>\n",
       "      <td>1.857937e+10</td>\n",
       "      <td>2.218504e+10</td>\n",
       "      <td>857.837854</td>\n",
       "      <td>515.095283</td>\n",
       "      <td>21.824384</td>\n",
       "      <td>70.839844</td>\n",
       "    </tr>\n",
       "    <tr>\n",
       "      <th>6</th>\n",
       "      <td>966</td>\n",
       "      <td>2.734503e+10</td>\n",
       "      <td>3.168682e+10</td>\n",
       "      <td>798.702382</td>\n",
       "      <td>650.341881</td>\n",
       "      <td>17.668997</td>\n",
       "      <td>79.586060</td>\n",
       "    </tr>\n",
       "  </tbody>\n",
       "</table>\n",
       "</div>"
      ],
      "text/plain": [
       "   Area    Solar_cost     Wind_cost  Solar_Power   Wind_Power        lat  \\\n",
       "0   401  1.141326e+10  1.331306e+10   790.088322   569.477760   8.235490   \n",
       "1   686  1.954698e+10  2.186692e+10   852.281140  1172.791598  27.231708   \n",
       "2   735  2.208054e+10  2.544518e+10   749.719273   735.282807  30.825460   \n",
       "3   487  1.375784e+10  1.627365e+10   784.336841   761.489126  13.070384   \n",
       "4   869  2.274979e+10  2.711702e+10   800.376047   848.454601  15.621395   \n",
       "5   679  1.857937e+10  2.218504e+10   857.837854   515.095283  21.824384   \n",
       "6   966  2.734503e+10  3.168682e+10   798.702382   650.341881  17.668997   \n",
       "\n",
       "        long  \n",
       "0  77.550294  \n",
       "1  70.303710  \n",
       "2  78.967529  \n",
       "3  80.200195  \n",
       "4  73.876465  \n",
       "5  70.839844  \n",
       "6  79.586060  "
      ]
     },
     "execution_count": 69,
     "metadata": {},
     "output_type": "execute_result"
    }
   ],
   "source": [
    "df=pd.read_excel('Test_params.xlsx')\n",
    "df"
   ]
  },
  {
   "cell_type": "code",
   "execution_count": 70,
   "metadata": {},
   "outputs": [
    {
     "data": {
      "text/plain": [
       "0     8.235490\n",
       "1    27.231708\n",
       "2    30.825460\n",
       "3    13.070384\n",
       "4    15.621395\n",
       "5    21.824384\n",
       "6    17.668997\n",
       "Name: lat, dtype: float64"
      ]
     },
     "execution_count": 70,
     "metadata": {},
     "output_type": "execute_result"
    }
   ],
   "source": [
    "lat=df['lat']\n",
    "long=df['long']\n",
    "lat"
   ]
  },
  {
   "cell_type": "code",
   "execution_count": 71,
   "metadata": {},
   "outputs": [
    {
     "data": {
      "text/plain": [
       "array([[ 790.08832198,  569.47776024],\n",
       "       [ 852.28113985, 1172.79159789],\n",
       "       [ 749.71927258,  735.28280668],\n",
       "       [ 784.33684082,  761.48912612],\n",
       "       [ 800.37604668,  848.45460067],\n",
       "       [ 857.83785422,  515.09528341],\n",
       "       [ 798.70238179,  650.3418809 ]])"
      ]
     },
     "execution_count": 71,
     "metadata": {},
     "output_type": "execute_result"
    }
   ],
   "source": [
    "p_s=np.array(df['Solar_Power'])\n",
    "p_w=np.array(df['Wind_Power'])\n",
    "p=np.column_stack([p_s,p_w])\n",
    "p"
   ]
  },
  {
   "cell_type": "code",
   "execution_count": 72,
   "metadata": {},
   "outputs": [
    {
     "data": {
      "text/plain": [
       "array([[1.14132636e+10, 1.33130644e+10],\n",
       "       [1.95469819e+10, 2.18669223e+10],\n",
       "       [2.20805433e+10, 2.54451813e+10],\n",
       "       [1.37578353e+10, 1.62736454e+10],\n",
       "       [2.27497912e+10, 2.71170200e+10],\n",
       "       [1.85793673e+10, 2.21850431e+10],\n",
       "       [2.73450311e+10, 3.16868234e+10]])"
      ]
     },
     "execution_count": 72,
     "metadata": {},
     "output_type": "execute_result"
    }
   ],
   "source": [
    "c_s=np.array(df['Solar_cost'])\n",
    "c_w=np.array(df['Wind_cost'])\n",
    "c=np.column_stack([c_s,c_w])\n",
    "c"
   ]
  },
  {
   "cell_type": "code",
   "execution_count": 73,
   "metadata": {},
   "outputs": [
    {
     "data": {
      "text/plain": [
       "array([401, 686, 735, 487, 869, 679, 966], dtype=int64)"
      ]
     },
     "execution_count": 73,
     "metadata": {},
     "output_type": "execute_result"
    }
   ],
   "source": [
    "a=np.array(df['Area'])\n",
    "a"
   ]
  },
  {
   "cell_type": "code",
   "execution_count": 74,
   "metadata": {},
   "outputs": [],
   "source": [
    "n=df.shape[0]\n",
    "t=2\n",
    "m=3   #Number of power plants you need to built\n",
    "b=10e10 #Budget\n",
    "\n",
    "def Calculate_power(model,i,j):\n",
    "    return p[i-1][j-1]*a[i-1]\n",
    "def Calculate_cost(model,i,j):\n",
    "    return c[i-1][j-1]\n",
    "\n",
    "## Create a model\n",
    "model = ConcreteModel()\n",
    "\n",
    "## Create parameters and sets\n",
    "model.n = n\n",
    "model.t = t\n",
    "model.types = Set(initialize=range(1, t+1))\n",
    "model.location = Set(initialize=range(1, n+1))\n",
    "model.power = Param(model.location,model.types, initialize=Calculate_power)\n",
    "model.cost= Param(model.location,model.types, initialize=Calculate_cost)\n",
    "\n",
    "## Create the variables\n",
    "model.x = Var(model.location, model.types, domain=Binary)"
   ]
  },
  {
   "cell_type": "code",
   "execution_count": 75,
   "metadata": {},
   "outputs": [],
   "source": [
    "#Objective Function\n",
    "model.totalpower = Objective(expr=sum(model.power[i, j]*model.x[i, j] \n",
    "                    for i in model.location for j in model.types),sense=maximize)"
   ]
  },
  {
   "cell_type": "code",
   "execution_count": 76,
   "metadata": {},
   "outputs": [],
   "source": [
    "## Assignment Constraints\n",
    "model.assignment = ConstraintList()\n",
    "for i in model.location:\n",
    "  model.assignment.add(expr=sum(model.x[i, j] for j in model.types)<=1)\n",
    "model.cons1=Constraint(expr = sum(model.cost[i, j]*model.x[i, j] for i in model.location for j in model.types) <= b)\n",
    "model.cons2=Constraint(expr = sum(model.x[i, j] for i in model.location for j in model.types)==m)"
   ]
  },
  {
   "cell_type": "code",
   "execution_count": 77,
   "metadata": {},
   "outputs": [
    {
     "name": "stdout",
     "output_type": "stream",
     "text": [
      "\n",
      "Objective Function =  2313388.584939813\n",
      "x : Size=14, Index=x_index\n",
      "    Key    : Lower : Value : Upper : Fixed : Stale : Domain\n",
      "    (1, 1) :     0 :   0.0 :     1 : False : False : Binary\n",
      "    (1, 2) :     0 :   0.0 :     1 : False : False : Binary\n",
      "    (2, 1) :     0 :   0.0 :     1 : False : False : Binary\n",
      "    (2, 2) :     0 :   1.0 :     1 : False : False : Binary\n",
      "    (3, 1) :     0 :   0.0 :     1 : False : False : Binary\n",
      "    (3, 2) :     0 :   0.0 :     1 : False : False : Binary\n",
      "    (4, 1) :     0 :   0.0 :     1 : False : False : Binary\n",
      "    (4, 2) :     0 :   0.0 :     1 : False : False : Binary\n",
      "    (5, 1) :     0 :   0.0 :     1 : False : False : Binary\n",
      "    (5, 2) :     0 :   1.0 :     1 : False : False : Binary\n",
      "    (6, 1) :     0 :   0.0 :     1 : False : False : Binary\n",
      "    (6, 2) :     0 :   0.0 :     1 : False : False : Binary\n",
      "    (7, 1) :     0 :   1.0 :     1 : False : False : Binary\n",
      "    (7, 2) :     0 :   0.0 :     1 : False : False : Binary\n"
     ]
    },
    {
     "data": {
      "text/plain": [
       "3.0"
      ]
     },
     "execution_count": 77,
     "metadata": {},
     "output_type": "execute_result"
    }
   ],
   "source": [
    "#Solving\n",
    "solver = SolverFactory('cbc.exe')\n",
    "solver.solve(model)\n",
    "\n",
    "# display solution\n",
    "print('\\nObjective Function = ', model.totalpower())\n",
    "\n",
    "model.x.display()\n",
    "model.cons1()\n",
    "model.cons2()\n"
   ]
  },
  {
   "cell_type": "code",
   "execution_count": 79,
   "metadata": {},
   "outputs": [],
   "source": [
    "decider=pd.DataFrame()"
   ]
  },
  {
   "cell_type": "code",
   "execution_count": 80,
   "metadata": {},
   "outputs": [],
   "source": [
    "d=model.x.extract_values()\n",
    "latitude=[]\n",
    "longitude=[]\n",
    "choice=[]\n",
    "cost=[]\n",
    "area=[]\n",
    "expenses=0\n",
    "for key in d:\n",
    "  if(d[key]==1 and key[1]==1):\n",
    "    latitude.append(lat[key[0]-1])\n",
    "    longitude.append(long[key[0]-1])\n",
    "    choice.append(\"Solar\")\n",
    "    cost.append(c_s[key[0]-1])\n",
    "    area.append(a[key[0]-1])\n",
    "    expenses+=c_s[key[0]-1]\n",
    "  elif(d[key]==1 and key[1]==2):\n",
    "    latitude.append(lat[key[0]-1])\n",
    "    longitude.append(long[key[0]-1])\n",
    "    choice.append(\"Wind\")\n",
    "    cost.append(c_w[key[0]-1])\n",
    "    area.append(a[key[0]-1])\n",
    "    expenses+=c_w[key[0]-1]\n",
    "decider['lat']=latitude\n",
    "decider['long']=longitude\n",
    "decider['Choice']=choice\n",
    "decider['Cost']=cost\n",
    "decider['Area']=area"
   ]
  },
  {
   "cell_type": "code",
   "execution_count": 84,
   "metadata": {},
   "outputs": [
    {
     "name": "stdout",
     "output_type": "stream",
     "text": [
      "Total expenses  76328973437.23828\n",
      "Leftover Budget  23671026562.76172\n"
     ]
    },
    {
     "data": {
      "text/html": [
       "<div>\n",
       "<style scoped>\n",
       "    .dataframe tbody tr th:only-of-type {\n",
       "        vertical-align: middle;\n",
       "    }\n",
       "\n",
       "    .dataframe tbody tr th {\n",
       "        vertical-align: top;\n",
       "    }\n",
       "\n",
       "    .dataframe thead th {\n",
       "        text-align: right;\n",
       "    }\n",
       "</style>\n",
       "<table border=\"1\" class=\"dataframe\">\n",
       "  <thead>\n",
       "    <tr style=\"text-align: right;\">\n",
       "      <th></th>\n",
       "      <th>lat</th>\n",
       "      <th>long</th>\n",
       "      <th>Choice</th>\n",
       "      <th>Cost</th>\n",
       "      <th>Area</th>\n",
       "    </tr>\n",
       "  </thead>\n",
       "  <tbody>\n",
       "    <tr>\n",
       "      <th>0</th>\n",
       "      <td>27.231708</td>\n",
       "      <td>70.303710</td>\n",
       "      <td>Wind</td>\n",
       "      <td>2.186692e+10</td>\n",
       "      <td>686</td>\n",
       "    </tr>\n",
       "    <tr>\n",
       "      <th>1</th>\n",
       "      <td>15.621395</td>\n",
       "      <td>73.876465</td>\n",
       "      <td>Wind</td>\n",
       "      <td>2.711702e+10</td>\n",
       "      <td>869</td>\n",
       "    </tr>\n",
       "    <tr>\n",
       "      <th>2</th>\n",
       "      <td>17.668997</td>\n",
       "      <td>79.586060</td>\n",
       "      <td>Solar</td>\n",
       "      <td>2.734503e+10</td>\n",
       "      <td>966</td>\n",
       "    </tr>\n",
       "  </tbody>\n",
       "</table>\n",
       "</div>"
      ],
      "text/plain": [
       "         lat       long Choice          Cost  Area\n",
       "0  27.231708  70.303710   Wind  2.186692e+10   686\n",
       "1  15.621395  73.876465   Wind  2.711702e+10   869\n",
       "2  17.668997  79.586060  Solar  2.734503e+10   966"
      ]
     },
     "execution_count": 84,
     "metadata": {},
     "output_type": "execute_result"
    }
   ],
   "source": [
    "print(\"Total expenses \",expenses)\n",
    "print(\"Leftover Budget \",b-expenses)\n",
    "decider"
   ]
  }
 ],
 "metadata": {
  "kernelspec": {
   "display_name": "Python 3",
   "language": "python",
   "name": "python3"
  },
  "language_info": {
   "codemirror_mode": {
    "name": "ipython",
    "version": 3
   },
   "file_extension": ".py",
   "mimetype": "text/x-python",
   "name": "python",
   "nbconvert_exporter": "python",
   "pygments_lexer": "ipython3",
   "version": "3.11.0"
  }
 },
 "nbformat": 4,
 "nbformat_minor": 2
}
